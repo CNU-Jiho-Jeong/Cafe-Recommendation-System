{
 "cells": [
  {
   "cell_type": "markdown",
   "id": "da920ccf",
   "metadata": {},
   "source": [
    "## 데이터 로딩"
   ]
  },
  {
   "cell_type": "code",
   "execution_count": 52,
   "id": "b590d8db",
   "metadata": {},
   "outputs": [],
   "source": [
    "import pandas as pd\n",
    "import numpy as np"
   ]
  },
  {
   "cell_type": "code",
   "execution_count": 53,
   "id": "d5bae61c",
   "metadata": {},
   "outputs": [],
   "source": [
    "cafe_data = pd.read_csv(\"cafe_data(similarity).CSV\", encoding='cp949')"
   ]
  },
  {
   "cell_type": "code",
   "execution_count": 54,
   "id": "e5ed5730",
   "metadata": {},
   "outputs": [
    {
     "data": {
      "text/html": [
       "<div>\n",
       "<style scoped>\n",
       "    .dataframe tbody tr th:only-of-type {\n",
       "        vertical-align: middle;\n",
       "    }\n",
       "\n",
       "    .dataframe tbody tr th {\n",
       "        vertical-align: top;\n",
       "    }\n",
       "\n",
       "    .dataframe thead th {\n",
       "        text-align: right;\n",
       "    }\n",
       "</style>\n",
       "<table border=\"1\" class=\"dataframe\">\n",
       "  <thead>\n",
       "    <tr style=\"text-align: right;\">\n",
       "      <th></th>\n",
       "      <th>cafe_name</th>\n",
       "      <th>overview</th>\n",
       "      <th>concept</th>\n",
       "      <th>reviewer</th>\n",
       "    </tr>\n",
       "  </thead>\n",
       "  <tbody>\n",
       "    <tr>\n",
       "      <th>0</th>\n",
       "      <td>마을(보드게임 만화 카페, 궁동)</td>\n",
       "      <td>만화도 보고 보드게임도 하고 연인이나 친구들과 즐겨도 되고 혼자 공부하기도 좋네요</td>\n",
       "      <td>대화하기좋아요 좌석이편해요 친절해요 음료가맛있어요 집중하기좋아요</td>\n",
       "      <td>리뷰 260개 / 5.0 / 혼자 공부하기 좋네요</td>\n",
       "    </tr>\n",
       "    <tr>\n",
       "      <th>1</th>\n",
       "      <td>스토랑트커피 대전봉명점(봉명동)</td>\n",
       "      <td>방음 잘 되어있음 다른데 주차해서 주차는 모르겠음</td>\n",
       "      <td>커피가맛있어요 매장이청결해요 집중하기좋아요 인테리어가멋져요 디저트가맛있어요</td>\n",
       "      <td>리뷰 112개 / 5.0 / 방음</td>\n",
       "    </tr>\n",
       "    <tr>\n",
       "      <th>2</th>\n",
       "      <td>탐앤탐스 대전유성점(봉명동)</td>\n",
       "      <td>조용하고2층 한적해서 좋아요</td>\n",
       "      <td>커피가맛있어요 집중하기좋아요 음료가맛있어요 매장이청결해요 대화하기좋아요</td>\n",
       "      <td>리뷰 273개 / 5.0 / 조용</td>\n",
       "    </tr>\n",
       "    <tr>\n",
       "      <th>3</th>\n",
       "      <td>드롭탑 유성복합터미널DT점(구암동)</td>\n",
       "      <td>주차가 정말 편하고 좌석이 넓습니다</td>\n",
       "      <td>커피가맛있어요 친절해요 주차하기편해요 매장이청결해요 음료가맛있어요</td>\n",
       "      <td>리뷰 84개 / 5.0 / 좌석이 넓다</td>\n",
       "    </tr>\n",
       "  </tbody>\n",
       "</table>\n",
       "</div>"
      ],
      "text/plain": [
       "             cafe_name                                       overview  \\\n",
       "0   마을(보드게임 만화 카페, 궁동)  만화도 보고 보드게임도 하고 연인이나 친구들과 즐겨도 되고 혼자 공부하기도 좋네요   \n",
       "1    스토랑트커피 대전봉명점(봉명동)                    방음 잘 되어있음 다른데 주차해서 주차는 모르겠음   \n",
       "2      탐앤탐스 대전유성점(봉명동)                                조용하고2층 한적해서 좋아요   \n",
       "3  드롭탑 유성복합터미널DT점(구암동)                            주차가 정말 편하고 좌석이 넓습니다   \n",
       "\n",
       "                                     concept                     reviewer  \n",
       "0        대화하기좋아요 좌석이편해요 친절해요 음료가맛있어요 집중하기좋아요  리뷰 260개 / 5.0 / 혼자 공부하기 좋네요  \n",
       "1  커피가맛있어요 매장이청결해요 집중하기좋아요 인테리어가멋져요 디저트가맛있어요          리뷰 112개 / 5.0 / 방음   \n",
       "2    커피가맛있어요 집중하기좋아요 음료가맛있어요 매장이청결해요 대화하기좋아요           리뷰 273개 / 5.0 / 조용  \n",
       "3       커피가맛있어요 친절해요 주차하기편해요 매장이청결해요 음료가맛있어요        리뷰 84개 / 5.0 / 좌석이 넓다  "
      ]
     },
     "execution_count": 54,
     "metadata": {},
     "output_type": "execute_result"
    }
   ],
   "source": [
    "cafe_data"
   ]
  },
  {
   "cell_type": "code",
   "execution_count": 55,
   "id": "e071ae14",
   "metadata": {},
   "outputs": [
    {
     "data": {
      "text/html": [
       "<div>\n",
       "<style scoped>\n",
       "    .dataframe tbody tr th:only-of-type {\n",
       "        vertical-align: middle;\n",
       "    }\n",
       "\n",
       "    .dataframe tbody tr th {\n",
       "        vertical-align: top;\n",
       "    }\n",
       "\n",
       "    .dataframe thead th {\n",
       "        text-align: right;\n",
       "    }\n",
       "</style>\n",
       "<table border=\"1\" class=\"dataframe\">\n",
       "  <thead>\n",
       "    <tr style=\"text-align: right;\">\n",
       "      <th></th>\n",
       "      <th>cafe_name</th>\n",
       "      <th>overview</th>\n",
       "      <th>concept</th>\n",
       "    </tr>\n",
       "  </thead>\n",
       "  <tbody>\n",
       "    <tr>\n",
       "      <th>0</th>\n",
       "      <td>마을(보드게임 만화 카페, 궁동)</td>\n",
       "      <td>만화도 보고 보드게임도 하고 연인이나 친구들과 즐겨도 되고 혼자 공부하기도 좋네요</td>\n",
       "      <td>대화하기좋아요 좌석이편해요 친절해요 음료가맛있어요 집중하기좋아요</td>\n",
       "    </tr>\n",
       "    <tr>\n",
       "      <th>1</th>\n",
       "      <td>스토랑트커피 대전봉명점(봉명동)</td>\n",
       "      <td>방음 잘 되어있음 다른데 주차해서 주차는 모르겠음</td>\n",
       "      <td>커피가맛있어요 매장이청결해요 집중하기좋아요 인테리어가멋져요 디저트가맛있어요</td>\n",
       "    </tr>\n",
       "    <tr>\n",
       "      <th>2</th>\n",
       "      <td>탐앤탐스 대전유성점(봉명동)</td>\n",
       "      <td>조용하고2층 한적해서 좋아요</td>\n",
       "      <td>커피가맛있어요 집중하기좋아요 음료가맛있어요 매장이청결해요 대화하기좋아요</td>\n",
       "    </tr>\n",
       "    <tr>\n",
       "      <th>3</th>\n",
       "      <td>드롭탑 유성복합터미널DT점(구암동)</td>\n",
       "      <td>주차가 정말 편하고 좌석이 넓습니다</td>\n",
       "      <td>커피가맛있어요 친절해요 주차하기편해요 매장이청결해요 음료가맛있어요</td>\n",
       "    </tr>\n",
       "  </tbody>\n",
       "</table>\n",
       "</div>"
      ],
      "text/plain": [
       "             cafe_name                                       overview  \\\n",
       "0   마을(보드게임 만화 카페, 궁동)  만화도 보고 보드게임도 하고 연인이나 친구들과 즐겨도 되고 혼자 공부하기도 좋네요   \n",
       "1    스토랑트커피 대전봉명점(봉명동)                    방음 잘 되어있음 다른데 주차해서 주차는 모르겠음   \n",
       "2      탐앤탐스 대전유성점(봉명동)                                조용하고2층 한적해서 좋아요   \n",
       "3  드롭탑 유성복합터미널DT점(구암동)                            주차가 정말 편하고 좌석이 넓습니다   \n",
       "\n",
       "                                     concept  \n",
       "0        대화하기좋아요 좌석이편해요 친절해요 음료가맛있어요 집중하기좋아요  \n",
       "1  커피가맛있어요 매장이청결해요 집중하기좋아요 인테리어가멋져요 디저트가맛있어요  \n",
       "2    커피가맛있어요 집중하기좋아요 음료가맛있어요 매장이청결해요 대화하기좋아요  \n",
       "3       커피가맛있어요 친절해요 주차하기편해요 매장이청결해요 음료가맛있어요  "
      ]
     },
     "execution_count": 55,
     "metadata": {},
     "output_type": "execute_result"
    }
   ],
   "source": [
    "cafe_data.drop([\"reviewer\"], axis=1)"
   ]
  },
  {
   "cell_type": "markdown",
   "id": "d483e8ad",
   "metadata": {},
   "source": [
    "## 세 텍스트 필드들을 모아서 텍스트 유사도에 사용할 텍스트 필드 하나를 생성"
   ]
  },
  {
   "cell_type": "code",
   "execution_count": 57,
   "id": "ddab08d6",
   "metadata": {},
   "outputs": [],
   "source": [
    "for f in ['cafe_name','overview','concept']:\n",
    "  cafe_data[f] = cafe_data[f].fillna('')"
   ]
  },
  {
   "cell_type": "code",
   "execution_count": 58,
   "id": "80c40c97",
   "metadata": {},
   "outputs": [],
   "source": [
    "def combine_features(row):\n",
    "    try:\n",
    "        return row['cafe_name']+\" \"+row['overview']+\" \"+row[\"concept\"] # 세 개의 필드(열)를 붙임\n",
    "    except:\n",
    "        print (\"Error:\", row)"
   ]
  },
  {
   "cell_type": "code",
   "execution_count": 59,
   "id": "f2bc2c46",
   "metadata": {},
   "outputs": [],
   "source": [
    "cafe_data[\"combined_features\"] = cafe_data.apply(combine_features,axis=1)\n",
    "cafe_data = cafe_data.reset_index() # 매우 중요한 부분 (찾아볼것!)"
   ]
  },
  {
   "cell_type": "code",
   "execution_count": 60,
   "id": "22d04e5a",
   "metadata": {},
   "outputs": [
    {
     "data": {
      "text/plain": [
       "0    마을(보드게임 만화 카페, 궁동) 만화도 보고 보드게임도 하고 연인이나 친구들과 즐...\n",
       "1    스토랑트커피 대전봉명점(봉명동) 방음 잘 되어있음 다른데 주차해서 주차는 모르겠음 ...\n",
       "2    탐앤탐스 대전유성점(봉명동) 조용하고2층 한적해서 좋아요 커피가맛있어요 집중하기좋아...\n",
       "3    드롭탑 유성복합터미널DT점(구암동) 주차가 정말 편하고 좌석이 넓습니다 커피가맛있어...\n",
       "Name: combined_features, dtype: object"
      ]
     },
     "execution_count": 60,
     "metadata": {},
     "output_type": "execute_result"
    }
   ],
   "source": [
    "cafe_data[\"combined_features\"]"
   ]
  },
  {
   "cell_type": "markdown",
   "id": "bc3165be",
   "metadata": {},
   "source": [
    "## TF-IDF 기반 벡터 생성 후 코사인 유사도로 영화들간의 유사도 계산"
   ]
  },
  {
   "cell_type": "code",
   "execution_count": 61,
   "id": "26762c10",
   "metadata": {},
   "outputs": [],
   "source": [
    "from sklearn.feature_extraction.text import TfidfVectorizer\n",
    "from sklearn.metrics.pairwise import cosine_similarity"
   ]
  },
  {
   "cell_type": "code",
   "execution_count": 62,
   "id": "05c9fef5",
   "metadata": {},
   "outputs": [],
   "source": [
    "tfidfvectorizer = TfidfVectorizer(analyzer='word', norm='l2')"
   ]
  },
  {
   "cell_type": "code",
   "execution_count": 63,
   "id": "13c63286",
   "metadata": {},
   "outputs": [],
   "source": [
    "tfidf_matrix = tfidfvectorizer.fit_transform(cafe_data[\"combined_features\"])"
   ]
  },
  {
   "cell_type": "code",
   "execution_count": 64,
   "id": "d9b0a8ce",
   "metadata": {},
   "outputs": [
    {
     "data": {
      "text/plain": [
       "(4, 48)"
      ]
     },
     "execution_count": 64,
     "metadata": {},
     "output_type": "execute_result"
    }
   ],
   "source": [
    "tfidf_matrix.shape"
   ]
  },
  {
   "cell_type": "code",
   "execution_count": 65,
   "id": "ba629ed6",
   "metadata": {},
   "outputs": [],
   "source": [
    "cosine_sim = cosine_similarity(tfidf_matrix)"
   ]
  },
  {
   "cell_type": "code",
   "execution_count": 66,
   "id": "011dd0a8",
   "metadata": {},
   "outputs": [
    {
     "data": {
      "text/html": [
       "<div>\n",
       "<style scoped>\n",
       "    .dataframe tbody tr th:only-of-type {\n",
       "        vertical-align: middle;\n",
       "    }\n",
       "\n",
       "    .dataframe tbody tr th {\n",
       "        vertical-align: top;\n",
       "    }\n",
       "\n",
       "    .dataframe thead th {\n",
       "        text-align: right;\n",
       "    }\n",
       "</style>\n",
       "<table border=\"1\" class=\"dataframe\">\n",
       "  <thead>\n",
       "    <tr style=\"text-align: right;\">\n",
       "      <th></th>\n",
       "      <th>0</th>\n",
       "      <th>1</th>\n",
       "      <th>2</th>\n",
       "      <th>3</th>\n",
       "    </tr>\n",
       "  </thead>\n",
       "  <tbody>\n",
       "    <tr>\n",
       "      <th>0</th>\n",
       "      <td>1.000000</td>\n",
       "      <td>0.027117</td>\n",
       "      <td>0.117267</td>\n",
       "      <td>0.071579</td>\n",
       "    </tr>\n",
       "    <tr>\n",
       "      <th>1</th>\n",
       "      <td>0.027117</td>\n",
       "      <td>1.000000</td>\n",
       "      <td>0.190945</td>\n",
       "      <td>0.071899</td>\n",
       "    </tr>\n",
       "    <tr>\n",
       "      <th>2</th>\n",
       "      <td>0.117267</td>\n",
       "      <td>0.190945</td>\n",
       "      <td>1.000000</td>\n",
       "      <td>0.132281</td>\n",
       "    </tr>\n",
       "    <tr>\n",
       "      <th>3</th>\n",
       "      <td>0.071579</td>\n",
       "      <td>0.071899</td>\n",
       "      <td>0.132281</td>\n",
       "      <td>1.000000</td>\n",
       "    </tr>\n",
       "  </tbody>\n",
       "</table>\n",
       "</div>"
      ],
      "text/plain": [
       "          0         1         2         3\n",
       "0  1.000000  0.027117  0.117267  0.071579\n",
       "1  0.027117  1.000000  0.190945  0.071899\n",
       "2  0.117267  0.190945  1.000000  0.132281\n",
       "3  0.071579  0.071899  0.132281  1.000000"
      ]
     },
     "execution_count": 66,
     "metadata": {},
     "output_type": "execute_result"
    }
   ],
   "source": [
    "df_cosine_sim = pd.DataFrame(data = cosine_sim)\n",
    "df_cosine_sim.head()"
   ]
  },
  {
   "cell_type": "markdown",
   "id": "1a63202b",
   "metadata": {},
   "source": [
    "## 아이템 기반 추천 함수 만들기"
   ]
  },
  {
   "cell_type": "code",
   "execution_count": 67,
   "id": "535aa0ab",
   "metadata": {},
   "outputs": [],
   "source": [
    "def get_name_from_index(df, index):\n",
    "    return df[df.index == index][\"cafe_name\"].values[0]\n",
    "\n",
    "def get_index_from_name(df, name):\n",
    "    return df[df.cafe_name == name][\"index\"].values[0]"
   ]
  },
  {
   "cell_type": "code",
   "execution_count": 68,
   "id": "0224b44b",
   "metadata": {},
   "outputs": [
    {
     "data": {
      "text/plain": [
       "array([1.        , 0.02711736, 0.11726688, 0.07157918])"
      ]
     },
     "execution_count": 68,
     "metadata": {},
     "output_type": "execute_result"
    }
   ],
   "source": [
    "cosine_sim[0]"
   ]
  },
  {
   "cell_type": "code",
   "execution_count": 69,
   "id": "2def37d2",
   "metadata": {},
   "outputs": [
    {
     "name": "stdout",
     "output_type": "stream",
     "text": [
      "(0, 1.0)\n",
      "(1, 0.027117357318650035)\n",
      "(2, 0.1172668782003994)\n",
      "(3, 0.0715791763189345)\n"
     ]
    }
   ],
   "source": [
    "for cs in enumerate(cosine_sim[0]):\n",
    "  print(cs)"
   ]
  },
  {
   "cell_type": "code",
   "execution_count": 72,
   "id": "baff15fb",
   "metadata": {},
   "outputs": [],
   "source": [
    "def reco_top_similar_cafes(cafe_name, n=10):\n",
    "  cafe_index = get_index_from_name(cafe_data, cafe_name) # get_index_from_title 함수를 따로 만들어서 사용\n",
    "  similar_cafes =  enumerate(cosine_sim[cafe_index]) # movie_index에 해당하는 행의 데이터를 읽어옴 (인덱스, 유사도값)\n",
    "  sorted_similar_cafes = sorted(similar_cafes, key=lambda x:x[1], reverse=True) # 유사도값을 내림차순으로 (x[1]만 쓰면 오름차순이지만, reverse=True 로 설정했기 때문에 내림차순이 됨)\n",
    "\n",
    "  ret_cafes = []\n",
    "  i = 0\n",
    "  for element in sorted_similar_cafes: # 유사도 값이 내림차순으로 정렬된 리스트를 맨 위부터 하나씩 찾는다\n",
    "    name = get_name_from_index(cafe_data, element[0]) \n",
    "    ret_cafes.append(name) # 영화 제목 append됨.\n",
    "    i=i+1\n",
    "    if i >= n: # 요청된 숫자만큼 찾는다\n",
    "      break # 요청된 숫자만큼 찾는다\n",
    "  return ret_cafes # 영화 제목들이 append 된 채 리턴이 된다. 밑에 예시들을 참고하자. "
   ]
  },
  {
   "cell_type": "code",
   "execution_count": 73,
   "id": "8ee8059e",
   "metadata": {},
   "outputs": [
    {
     "name": "stdout",
     "output_type": "stream",
     "text": [
      "['마을(보드게임 만화 카페, 궁동)', '탐앤탐스 대전유성점(봉명동)']\n"
     ]
    }
   ],
   "source": [
    "print(reco_top_similar_cafes('마을(보드게임 만화 카페, 궁동)', 2))"
   ]
  },
  {
   "cell_type": "code",
   "execution_count": null,
   "id": "ffca4d6f",
   "metadata": {},
   "outputs": [],
   "source": []
  }
 ],
 "metadata": {
  "kernelspec": {
   "display_name": "Python 3 (ipykernel)",
   "language": "python",
   "name": "python3"
  },
  "language_info": {
   "codemirror_mode": {
    "name": "ipython",
    "version": 3
   },
   "file_extension": ".py",
   "mimetype": "text/x-python",
   "name": "python",
   "nbconvert_exporter": "python",
   "pygments_lexer": "ipython3",
   "version": "3.9.12"
  }
 },
 "nbformat": 4,
 "nbformat_minor": 5
}
